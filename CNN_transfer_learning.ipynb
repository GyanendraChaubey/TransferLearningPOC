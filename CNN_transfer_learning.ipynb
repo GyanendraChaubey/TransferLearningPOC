{
  "cells": [
    {
      "cell_type": "markdown",
      "metadata": {
        "id": "view-in-github",
        "colab_type": "text"
      },
      "source": [
        "<a href=\"https://colab.research.google.com/github/GyanendraChaubey/TransferLearningPOC/blob/main/CNN_transfer_learning.ipynb\" target=\"_parent\"><img src=\"https://colab.research.google.com/assets/colab-badge.svg\" alt=\"Open In Colab\"/></a>"
      ]
    },
    {
      "cell_type": "markdown",
      "metadata": {
        "id": "TA-bvW-B0Ps0"
      },
      "source": [
        "# Assignment\n",
        "\n",
        "1. Train this model (10 classes)\n",
        "2. Try Transfer learning by changing the last layer to classify no. as even and odd (2 classes)"
      ]
    },
    {
      "cell_type": "code",
      "execution_count": null,
      "metadata": {
        "id": "mNShEE82zQ4G"
      },
      "outputs": [],
      "source": [
        "#Import Necessary libraries\n",
        "import tensorflow as tf\n",
        "import pandas as pd\n",
        "import numpy as np\n",
        "import matplotlib.pyplot as plt\n",
        "import seaborn as sns"
      ]
    },
    {
      "cell_type": "code",
      "execution_count": null,
      "metadata": {
        "id": "vZNuQ58zzjFG"
      },
      "outputs": [],
      "source": [
        "mnist = tf.keras.datasets.mnist"
      ]
    },
    {
      "cell_type": "code",
      "execution_count": null,
      "metadata": {
        "colab": {
          "base_uri": "https://localhost:8080/"
        },
        "id": "zIU1fT_30Me8",
        "outputId": "a40269ba-42ad-44af-d970-6235bbf3e1d7"
      },
      "outputs": [
        {
          "name": "stdout",
          "output_type": "stream",
          "text": [
            "Downloading data from https://storage.googleapis.com/tensorflow/tf-keras-datasets/mnist.npz\n",
            "11493376/11490434 [==============================] - 0s 0us/step\n",
            "11501568/11490434 [==============================] - 0s 0us/step\n"
          ]
        }
      ],
      "source": [
        "(X_train_full, y_train_full), (X_test, y_test) = mnist.load_data()"
      ]
    },
    {
      "cell_type": "code",
      "execution_count": null,
      "metadata": {
        "colab": {
          "base_uri": "https://localhost:8080/"
        },
        "id": "wAA3rkMs2KJ4",
        "outputId": "2ccaf160-ae69-484c-eccb-68c395c3b862"
      },
      "outputs": [
        {
          "data": {
            "text/plain": [
              "(60000, 28, 28)"
            ]
          },
          "execution_count": 4,
          "metadata": {},
          "output_type": "execute_result"
        }
      ],
      "source": [
        "X_train_full.shape"
      ]
    },
    {
      "cell_type": "code",
      "execution_count": null,
      "metadata": {
        "colab": {
          "base_uri": "https://localhost:8080/"
        },
        "id": "oE8IdK_O2O6m",
        "outputId": "76a12b71-e8c4-4a8b-d7c6-0a9ea2d8430b"
      },
      "outputs": [
        {
          "data": {
            "text/plain": [
              "(60000,)"
            ]
          },
          "execution_count": 5,
          "metadata": {},
          "output_type": "execute_result"
        }
      ],
      "source": [
        "y_train_full.shape"
      ]
    },
    {
      "cell_type": "code",
      "execution_count": null,
      "metadata": {
        "colab": {
          "base_uri": "https://localhost:8080/"
        },
        "id": "obOb2gv62TZs",
        "outputId": "01f35c9c-e7e8-48a8-98bc-02ccca122ac1"
      },
      "outputs": [
        {
          "data": {
            "text/plain": [
              "(10000, 28, 28)"
            ]
          },
          "execution_count": 6,
          "metadata": {},
          "output_type": "execute_result"
        }
      ],
      "source": [
        "X_test.shape"
      ]
    },
    {
      "cell_type": "code",
      "execution_count": null,
      "metadata": {
        "colab": {
          "base_uri": "https://localhost:8080/"
        },
        "id": "DmQgyX2W2VCl",
        "outputId": "c8e250a0-7828-439f-d240-05aff655b407"
      },
      "outputs": [
        {
          "data": {
            "text/plain": [
              "array([[  0,   0,   0,   0,   0,   0,   0,   0,   0,   0,   0,   0,   0,\n",
              "          0,   0,   0,   0,   0,   0,   0,   0,   0,   0,   0,   0,   0,\n",
              "          0,   0],\n",
              "       [  0,   0,   0,   0,   0,   0,   0,   0,   0,   0,   0,   0,   0,\n",
              "          0,   0,   0,   0,   0,   0,   0,   0,   0,   0,   0,   0,   0,\n",
              "          0,   0],\n",
              "       [  0,   0,   0,   0,   0,   0,   0,   0,   0,   0,   0,   0,   0,\n",
              "          0,   0,   0,   0,   0,   0,   0,   0,   0,   0,   0,   0,   0,\n",
              "          0,   0],\n",
              "       [  0,   0,   0,   0,   0,   0,   0,   0,   0,   0,   0,   0,   0,\n",
              "          0,   0,   0,   0,   0,   0,   0,   0,   0,   0,   0,   0,   0,\n",
              "          0,   0],\n",
              "       [  0,   0,   0,   0,   0,   0,   0,   0,   0,   0,   0,   0,   0,\n",
              "          0,   0,   0,   0,   0,   0,   0,   0,   0,   0,   0,   0,   0,\n",
              "          0,   0],\n",
              "       [  0,   0,   0,   0,   0,   0,   0,   0,   0,   0,   0,   0,   3,\n",
              "         18,  18,  18, 126, 136, 175,  26, 166, 255, 247, 127,   0,   0,\n",
              "          0,   0],\n",
              "       [  0,   0,   0,   0,   0,   0,   0,   0,  30,  36,  94, 154, 170,\n",
              "        253, 253, 253, 253, 253, 225, 172, 253, 242, 195,  64,   0,   0,\n",
              "          0,   0],\n",
              "       [  0,   0,   0,   0,   0,   0,   0,  49, 238, 253, 253, 253, 253,\n",
              "        253, 253, 253, 253, 251,  93,  82,  82,  56,  39,   0,   0,   0,\n",
              "          0,   0],\n",
              "       [  0,   0,   0,   0,   0,   0,   0,  18, 219, 253, 253, 253, 253,\n",
              "        253, 198, 182, 247, 241,   0,   0,   0,   0,   0,   0,   0,   0,\n",
              "          0,   0],\n",
              "       [  0,   0,   0,   0,   0,   0,   0,   0,  80, 156, 107, 253, 253,\n",
              "        205,  11,   0,  43, 154,   0,   0,   0,   0,   0,   0,   0,   0,\n",
              "          0,   0],\n",
              "       [  0,   0,   0,   0,   0,   0,   0,   0,   0,  14,   1, 154, 253,\n",
              "         90,   0,   0,   0,   0,   0,   0,   0,   0,   0,   0,   0,   0,\n",
              "          0,   0],\n",
              "       [  0,   0,   0,   0,   0,   0,   0,   0,   0,   0,   0, 139, 253,\n",
              "        190,   2,   0,   0,   0,   0,   0,   0,   0,   0,   0,   0,   0,\n",
              "          0,   0],\n",
              "       [  0,   0,   0,   0,   0,   0,   0,   0,   0,   0,   0,  11, 190,\n",
              "        253,  70,   0,   0,   0,   0,   0,   0,   0,   0,   0,   0,   0,\n",
              "          0,   0],\n",
              "       [  0,   0,   0,   0,   0,   0,   0,   0,   0,   0,   0,   0,  35,\n",
              "        241, 225, 160, 108,   1,   0,   0,   0,   0,   0,   0,   0,   0,\n",
              "          0,   0],\n",
              "       [  0,   0,   0,   0,   0,   0,   0,   0,   0,   0,   0,   0,   0,\n",
              "         81, 240, 253, 253, 119,  25,   0,   0,   0,   0,   0,   0,   0,\n",
              "          0,   0],\n",
              "       [  0,   0,   0,   0,   0,   0,   0,   0,   0,   0,   0,   0,   0,\n",
              "          0,  45, 186, 253, 253, 150,  27,   0,   0,   0,   0,   0,   0,\n",
              "          0,   0],\n",
              "       [  0,   0,   0,   0,   0,   0,   0,   0,   0,   0,   0,   0,   0,\n",
              "          0,   0,  16,  93, 252, 253, 187,   0,   0,   0,   0,   0,   0,\n",
              "          0,   0],\n",
              "       [  0,   0,   0,   0,   0,   0,   0,   0,   0,   0,   0,   0,   0,\n",
              "          0,   0,   0,   0, 249, 253, 249,  64,   0,   0,   0,   0,   0,\n",
              "          0,   0],\n",
              "       [  0,   0,   0,   0,   0,   0,   0,   0,   0,   0,   0,   0,   0,\n",
              "          0,  46, 130, 183, 253, 253, 207,   2,   0,   0,   0,   0,   0,\n",
              "          0,   0],\n",
              "       [  0,   0,   0,   0,   0,   0,   0,   0,   0,   0,   0,   0,  39,\n",
              "        148, 229, 253, 253, 253, 250, 182,   0,   0,   0,   0,   0,   0,\n",
              "          0,   0],\n",
              "       [  0,   0,   0,   0,   0,   0,   0,   0,   0,   0,  24, 114, 221,\n",
              "        253, 253, 253, 253, 201,  78,   0,   0,   0,   0,   0,   0,   0,\n",
              "          0,   0],\n",
              "       [  0,   0,   0,   0,   0,   0,   0,   0,  23,  66, 213, 253, 253,\n",
              "        253, 253, 198,  81,   2,   0,   0,   0,   0,   0,   0,   0,   0,\n",
              "          0,   0],\n",
              "       [  0,   0,   0,   0,   0,   0,  18, 171, 219, 253, 253, 253, 253,\n",
              "        195,  80,   9,   0,   0,   0,   0,   0,   0,   0,   0,   0,   0,\n",
              "          0,   0],\n",
              "       [  0,   0,   0,   0,  55, 172, 226, 253, 253, 253, 253, 244, 133,\n",
              "         11,   0,   0,   0,   0,   0,   0,   0,   0,   0,   0,   0,   0,\n",
              "          0,   0],\n",
              "       [  0,   0,   0,   0, 136, 253, 253, 253, 212, 135, 132,  16,   0,\n",
              "          0,   0,   0,   0,   0,   0,   0,   0,   0,   0,   0,   0,   0,\n",
              "          0,   0],\n",
              "       [  0,   0,   0,   0,   0,   0,   0,   0,   0,   0,   0,   0,   0,\n",
              "          0,   0,   0,   0,   0,   0,   0,   0,   0,   0,   0,   0,   0,\n",
              "          0,   0],\n",
              "       [  0,   0,   0,   0,   0,   0,   0,   0,   0,   0,   0,   0,   0,\n",
              "          0,   0,   0,   0,   0,   0,   0,   0,   0,   0,   0,   0,   0,\n",
              "          0,   0],\n",
              "       [  0,   0,   0,   0,   0,   0,   0,   0,   0,   0,   0,   0,   0,\n",
              "          0,   0,   0,   0,   0,   0,   0,   0,   0,   0,   0,   0,   0,\n",
              "          0,   0]], dtype=uint8)"
            ]
          },
          "execution_count": 7,
          "metadata": {},
          "output_type": "execute_result"
        }
      ],
      "source": [
        "X_train_full[0]"
      ]
    },
    {
      "cell_type": "code",
      "execution_count": null,
      "metadata": {
        "colab": {
          "base_uri": "https://localhost:8080/"
        },
        "id": "B8gTCYll2eN1",
        "outputId": "96926a27-d0b8-4c50-9499-f8c1604f6fce"
      },
      "outputs": [
        {
          "data": {
            "text/plain": [
              "(28, 28)"
            ]
          },
          "execution_count": 8,
          "metadata": {},
          "output_type": "execute_result"
        }
      ],
      "source": [
        "X_train_full[0].shape"
      ]
    },
    {
      "cell_type": "code",
      "execution_count": null,
      "metadata": {
        "colab": {
          "base_uri": "https://localhost:8080/",
          "height": 282
        },
        "id": "1JwWx-FK2iP7",
        "outputId": "5a24e6bc-41a2-49d2-ffdb-b0c773c878fa"
      },
      "outputs": [
        {
          "data": {
            "text/plain": [
              "<matplotlib.image.AxesImage at 0x7f36d69ff590>"
            ]
          },
          "execution_count": 9,
          "metadata": {},
          "output_type": "execute_result"
        },
        {
          "data": {
            "image/png": "[encoded data removed]",
            "text/plain": [
              "<Figure size 432x288 with 1 Axes>"
            ]
          },
          "metadata": {},
          "output_type": "display_data"
        }
      ],
      "source": [
        "plt.imshow(X_train_full[0], cmap=\"gray\")"
      ]
    },
    {
      "cell_type": "code",
      "execution_count": null,
      "metadata": {
        "colab": {
          "base_uri": "https://localhost:8080/"
        },
        "id": "q4gJkTA97Vvq",
        "outputId": "1c0329e8-7ef5-4331-b1c6-2a8994abc735"
      },
      "outputs": [
        {
          "data": {
            "text/plain": [
              "5"
            ]
          },
          "execution_count": 10,
          "metadata": {},
          "output_type": "execute_result"
        }
      ],
      "source": [
        "y_train_full[0]"
      ]
    },
    {
      "cell_type": "code",
      "execution_count": null,
      "metadata": {
        "id": "_9UU8t4F2wgG"
      },
      "outputs": [],
      "source": [
        "X_valid, X_train = X_train_full[:5000]/255, X_train_full[5000:]/255\n",
        "y_valid, y_train = y_train_full[:5000], y_train_full[5000:]\n",
        "\n",
        "X_test=X_test/255\n"
      ]
    },
    {
      "cell_type": "code",
      "execution_count": null,
      "metadata": {
        "colab": {
          "base_uri": "https://localhost:8080/"
        },
        "id": "OvK6H06N7tfi",
        "outputId": "8acb6b30-95b3-467d-f0cd-db26d7d9c623"
      },
      "outputs": [
        {
          "data": {
            "text/plain": [
              "10"
            ]
          },
          "execution_count": 12,
          "metadata": {},
          "output_type": "execute_result"
        }
      ],
      "source": [
        "CLASSES = len(np.unique(y_train))\n",
        "CLASSES"
      ]
    },
    {
      "cell_type": "code",
      "execution_count": null,
      "metadata": {
        "colab": {
          "base_uri": "https://localhost:8080/"
        },
        "id": "LCdxgyIU7xFc",
        "outputId": "db90d411-9912-44f6-ae65-6e32358135cc"
      },
      "outputs": [
        {
          "data": {
            "text/plain": [
              "(55000, 28, 28)"
            ]
          },
          "execution_count": 13,
          "metadata": {},
          "output_type": "execute_result"
        }
      ],
      "source": [
        "X_train.shape"
      ]
    },
    {
      "cell_type": "code",
      "execution_count": null,
      "metadata": {
        "colab": {
          "base_uri": "https://localhost:8080/"
        },
        "id": "4-EPfE2S730z",
        "outputId": "84770a85-8604-46de-a8a9-e663fe4c1f0c"
      },
      "outputs": [
        {
          "data": {
            "text/plain": [
              "array([[0.        , 0.        , 0.        , 0.        , 0.        ,\n",
              "        0.        , 0.        , 0.        , 0.        , 0.        ,\n",
              "        0.        , 0.        , 0.        , 0.        , 0.        ,\n",
              "        0.        , 0.        , 0.        , 0.        , 0.        ,\n",
              "        0.        , 0.        , 0.        , 0.        , 0.        ,\n",
              "        0.        , 0.        , 0.        ],\n",
              "       [0.        , 0.        , 0.        , 0.        , 0.        ,\n",
              "        0.        , 0.        , 0.        , 0.        , 0.        ,\n",
              "        0.        , 0.        , 0.        , 0.        , 0.        ,\n",
              "        0.        , 0.        , 0.        , 0.        , 0.        ,\n",
              "        0.        , 0.        , 0.        , 0.        , 0.        ,\n",
              "        0.        , 0.        , 0.        ],\n",
              "       [0.        , 0.        , 0.        , 0.        , 0.        ,\n",
              "        0.        , 0.        , 0.        , 0.        , 0.        ,\n",
              "        0.        , 0.        , 0.        , 0.        , 0.        ,\n",
              "        0.        , 0.        , 0.        , 0.        , 0.        ,\n",
              "        0.        , 0.        , 0.        , 0.        , 0.        ,\n",
              "        0.        , 0.        , 0.        ],\n",
              "       [0.        , 0.        , 0.        , 0.        , 0.        ,\n",
              "        0.        , 0.        , 0.        , 0.        , 0.        ,\n",
              "        0.        , 0.        , 0.        , 0.        , 0.        ,\n",
              "        0.        , 0.        , 0.        , 0.        , 0.        ,\n",
              "        0.        , 0.        , 0.        , 0.        , 0.        ,\n",
              "        0.        , 0.        , 0.        ],\n",
              "       [0.        , 0.        , 0.        , 0.        , 0.        ,\n",
              "        0.        , 0.        , 0.        , 0.        , 0.        ,\n",
              "        0.        , 0.        , 0.        , 0.        , 0.        ,\n",
              "        0.        , 0.        , 0.        , 0.        , 0.        ,\n",
              "        0.        , 0.        , 0.        , 0.        , 0.        ,\n",
              "        0.        , 0.        , 0.        ],\n",
              "       [0.        , 0.        , 0.        , 0.        , 0.        ,\n",
              "        0.        , 0.        , 0.        , 0.        , 0.        ,\n",
              "        0.        , 0.        , 0.        , 0.        , 0.        ,\n",
              "        0.        , 0.        , 0.        , 0.        , 0.        ,\n",
              "        0.        , 0.        , 0.        , 0.        , 0.        ,\n",
              "        0.        , 0.        , 0.        ],\n",
              "       [0.        , 0.        , 0.        , 0.        , 0.        ,\n",
              "        0.        , 0.        , 0.        , 0.        , 0.        ,\n",
              "        0.        , 0.        , 0.        , 0.        , 0.        ,\n",
              "        0.        , 0.        , 0.        , 0.        , 0.        ,\n",
              "        0.        , 0.        , 0.        , 0.        , 0.        ,\n",
              "        0.        , 0.        , 0.        ],\n",
              "       [0.        , 0.        , 0.        , 0.        , 0.        ,\n",
              "        0.        , 0.        , 0.        , 0.        , 0.        ,\n",
              "        0.        , 0.38039216, 0.37647059, 0.30196078, 0.4627451 ,\n",
              "        0.23921569, 0.        , 0.        , 0.        , 0.        ,\n",
              "        0.        , 0.        , 0.        , 0.        , 0.        ,\n",
              "        0.        , 0.        , 0.        ],\n",
              "       [0.        , 0.        , 0.        , 0.35294118, 0.54117647,\n",
              "        0.92156863, 0.92156863, 0.92156863, 0.92156863, 0.92156863,\n",
              "        0.92156863, 0.98431373, 0.98431373, 0.97254902, 0.99607843,\n",
              "        0.96078431, 0.92156863, 0.74509804, 0.08235294, 0.        ,\n",
              "        0.        , 0.        , 0.        , 0.        , 0.        ,\n",
              "        0.        , 0.        , 0.        ],\n",
              "       [0.        , 0.        , 0.54901961, 0.98431373, 0.99607843,\n",
              "        0.99607843, 0.99607843, 0.99607843, 0.99607843, 0.99607843,\n",
              "        0.99607843, 0.99607843, 0.99607843, 0.99607843, 0.99607843,\n",
              "        0.99607843, 0.99607843, 0.99607843, 0.74117647, 0.09019608,\n",
              "        0.        , 0.        , 0.        , 0.        , 0.        ,\n",
              "        0.        , 0.        , 0.        ],\n",
              "       [0.        , 0.        , 0.88627451, 0.99607843, 0.81568627,\n",
              "        0.78039216, 0.78039216, 0.78039216, 0.78039216, 0.54509804,\n",
              "        0.23921569, 0.23921569, 0.23921569, 0.23921569, 0.23921569,\n",
              "        0.50196078, 0.87058824, 0.99607843, 0.99607843, 0.74117647,\n",
              "        0.08235294, 0.        , 0.        , 0.        , 0.        ,\n",
              "        0.        , 0.        , 0.        ],\n",
              "       [0.        , 0.        , 0.14901961, 0.32156863, 0.05098039,\n",
              "        0.        , 0.        , 0.        , 0.        , 0.        ,\n",
              "        0.        , 0.        , 0.        , 0.        , 0.        ,\n",
              "        0.        , 0.13333333, 0.83529412, 0.99607843, 0.99607843,\n",
              "        0.45098039, 0.        , 0.        , 0.        , 0.        ,\n",
              "        0.        , 0.        , 0.        ],\n",
              "       [0.        , 0.        , 0.        , 0.        , 0.        ,\n",
              "        0.        , 0.        , 0.        , 0.        , 0.        ,\n",
              "        0.        , 0.        , 0.        , 0.        , 0.        ,\n",
              "        0.        , 0.        , 0.32941176, 0.99607843, 0.99607843,\n",
              "        0.91764706, 0.        , 0.        , 0.        , 0.        ,\n",
              "        0.        , 0.        , 0.        ],\n",
              "       [0.        , 0.        , 0.        , 0.        , 0.        ,\n",
              "        0.        , 0.        , 0.        , 0.        , 0.        ,\n",
              "        0.        , 0.        , 0.        , 0.        , 0.        ,\n",
              "        0.        , 0.        , 0.32941176, 0.99607843, 0.99607843,\n",
              "        0.91764706, 0.        , 0.        , 0.        , 0.        ,\n",
              "        0.        , 0.        , 0.        ],\n",
              "       [0.        , 0.        , 0.        , 0.        , 0.        ,\n",
              "        0.        , 0.        , 0.        , 0.        , 0.        ,\n",
              "        0.        , 0.        , 0.        , 0.        , 0.        ,\n",
              "        0.        , 0.41568627, 0.61568627, 0.99607843, 0.99607843,\n",
              "        0.95294118, 0.2       , 0.        , 0.        , 0.        ,\n",
              "        0.        , 0.        , 0.        ],\n",
              "       [0.        , 0.        , 0.        , 0.        , 0.        ,\n",
              "        0.        , 0.        , 0.        , 0.        , 0.        ,\n",
              "        0.        , 0.09803922, 0.45882353, 0.89411765, 0.89411765,\n",
              "        0.89411765, 0.99215686, 0.99607843, 0.99607843, 0.99607843,\n",
              "        0.99607843, 0.94117647, 0.        , 0.        , 0.        ,\n",
              "        0.        , 0.        , 0.        ],\n",
              "       [0.        , 0.        , 0.        , 0.        , 0.        ,\n",
              "        0.        , 0.        , 0.        , 0.        , 0.26666667,\n",
              "        0.46666667, 0.8627451 , 0.99607843, 0.99607843, 0.99607843,\n",
              "        0.99607843, 0.99607843, 0.99607843, 0.99607843, 0.99607843,\n",
              "        0.99607843, 0.55686275, 0.        , 0.        , 0.        ,\n",
              "        0.        , 0.        , 0.        ],\n",
              "       [0.        , 0.        , 0.        , 0.        , 0.        ,\n",
              "        0.        , 0.        , 0.14509804, 0.73333333, 0.99215686,\n",
              "        0.99607843, 0.99607843, 0.99607843, 0.8745098 , 0.80784314,\n",
              "        0.80784314, 0.29411765, 0.26666667, 0.84313725, 0.99607843,\n",
              "        0.99607843, 0.45882353, 0.        , 0.        , 0.        ,\n",
              "        0.        , 0.        , 0.        ],\n",
              "       [0.        , 0.        , 0.        , 0.        , 0.        ,\n",
              "        0.        , 0.44313725, 0.85882353, 0.99607843, 0.94901961,\n",
              "        0.89019608, 0.45098039, 0.34901961, 0.12156863, 0.        ,\n",
              "        0.        , 0.        , 0.        , 0.78431373, 0.99607843,\n",
              "        0.94509804, 0.16078431, 0.        , 0.        , 0.        ,\n",
              "        0.        , 0.        , 0.        ],\n",
              "       [0.        , 0.        , 0.        , 0.        , 0.        ,\n",
              "        0.        , 0.6627451 , 0.99607843, 0.69019608, 0.24313725,\n",
              "        0.        , 0.        , 0.        , 0.        , 0.        ,\n",
              "        0.        , 0.        , 0.18823529, 0.90588235, 0.99607843,\n",
              "        0.91764706, 0.        , 0.        , 0.        , 0.        ,\n",
              "        0.        , 0.        , 0.        ],\n",
              "       [0.        , 0.        , 0.        , 0.        , 0.        ,\n",
              "        0.        , 0.07058824, 0.48627451, 0.        , 0.        ,\n",
              "        0.        , 0.        , 0.        , 0.        , 0.        ,\n",
              "        0.        , 0.        , 0.32941176, 0.99607843, 0.99607843,\n",
              "        0.65098039, 0.        , 0.        , 0.        , 0.        ,\n",
              "        0.        , 0.        , 0.        ],\n",
              "       [0.        , 0.        , 0.        , 0.        , 0.        ,\n",
              "        0.        , 0.        , 0.        , 0.        , 0.        ,\n",
              "        0.        , 0.        , 0.        , 0.        , 0.        ,\n",
              "        0.        , 0.        , 0.54509804, 0.99607843, 0.93333333,\n",
              "        0.22352941, 0.        , 0.        , 0.        , 0.        ,\n",
              "        0.        , 0.        , 0.        ],\n",
              "       [0.        , 0.        , 0.        , 0.        , 0.        ,\n",
              "        0.        , 0.        , 0.        , 0.        , 0.        ,\n",
              "        0.        , 0.        , 0.        , 0.        , 0.        ,\n",
              "        0.        , 0.82352941, 0.98039216, 0.99607843, 0.65882353,\n",
              "        0.        , 0.        , 0.        , 0.        , 0.        ,\n",
              "        0.        , 0.        , 0.        ],\n",
              "       [0.        , 0.        , 0.        , 0.        , 0.        ,\n",
              "        0.        , 0.        , 0.        , 0.        , 0.        ,\n",
              "        0.        , 0.        , 0.        , 0.        , 0.        ,\n",
              "        0.        , 0.94901961, 0.99607843, 0.9372549 , 0.22352941,\n",
              "        0.        , 0.        , 0.        , 0.        , 0.        ,\n",
              "        0.        , 0.        , 0.        ],\n",
              "       [0.        , 0.        , 0.        , 0.        , 0.        ,\n",
              "        0.        , 0.        , 0.        , 0.        , 0.        ,\n",
              "        0.        , 0.        , 0.        , 0.        , 0.        ,\n",
              "        0.34901961, 0.98431373, 0.94509804, 0.3372549 , 0.        ,\n",
              "        0.        , 0.        , 0.        , 0.        , 0.        ,\n",
              "        0.        , 0.        , 0.        ],\n",
              "       [0.        , 0.        , 0.        , 0.        , 0.        ,\n",
              "        0.        , 0.        , 0.        , 0.        , 0.        ,\n",
              "        0.        , 0.        , 0.        , 0.        , 0.01960784,\n",
              "        0.80784314, 0.96470588, 0.61568627, 0.        , 0.        ,\n",
              "        0.        , 0.        , 0.        , 0.        , 0.        ,\n",
              "        0.        , 0.        , 0.        ],\n",
              "       [0.        , 0.        , 0.        , 0.        , 0.        ,\n",
              "        0.        , 0.        , 0.        , 0.        , 0.        ,\n",
              "        0.        , 0.        , 0.        , 0.        , 0.01568627,\n",
              "        0.45882353, 0.27058824, 0.        , 0.        , 0.        ,\n",
              "        0.        , 0.        , 0.        , 0.        , 0.        ,\n",
              "        0.        , 0.        , 0.        ],\n",
              "       [0.        , 0.        , 0.        , 0.        , 0.        ,\n",
              "        0.        , 0.        , 0.        , 0.        , 0.        ,\n",
              "        0.        , 0.        , 0.        , 0.        , 0.        ,\n",
              "        0.        , 0.        , 0.        , 0.        , 0.        ,\n",
              "        0.        , 0.        , 0.        , 0.        , 0.        ,\n",
              "        0.        , 0.        , 0.        ]])"
            ]
          },
          "execution_count": 14,
          "metadata": {},
          "output_type": "execute_result"
        }
      ],
      "source": [
        "X_train[0]"
      ]
    },
    {
      "cell_type": "code",
      "execution_count": null,
      "metadata": {
        "colab": {
          "base_uri": "https://localhost:8080/"
        },
        "id": "p6jIEFxr75iC",
        "outputId": "80311bbb-f59c-4499-bf4c-350837c0f78f"
      },
      "outputs": [
        {
          "data": {
            "text/plain": [
              "(55000, 28, 28, 1)"
            ]
          },
          "execution_count": 15,
          "metadata": {},
          "output_type": "execute_result"
        }
      ],
      "source": [
        "np.expand_dims(X_train, -1).shape"
      ]
    },
    {
      "cell_type": "code",
      "execution_count": null,
      "metadata": {
        "colab": {
          "base_uri": "https://localhost:8080/"
        },
        "id": "G2HqDnP-79YW",
        "outputId": "5934498e-48e5-489f-a2c9-d8c187ef2542"
      },
      "outputs": [
        {
          "data": {
            "text/plain": [
              "(55000, 28, 1, 28)"
            ]
          },
          "execution_count": 16,
          "metadata": {},
          "output_type": "execute_result"
        }
      ],
      "source": [
        "np.expand_dims(X_train, -2).shape"
      ]
    },
    {
      "cell_type": "code",
      "execution_count": null,
      "metadata": {
        "colab": {
          "base_uri": "https://localhost:8080/"
        },
        "id": "WwDrabFD7_BL",
        "outputId": "9b10bfd4-57fe-464f-815b-c2e05aa39608"
      },
      "outputs": [
        {
          "data": {
            "text/plain": [
              "(55000, 1, 28, 28)"
            ]
          },
          "execution_count": 17,
          "metadata": {},
          "output_type": "execute_result"
        }
      ],
      "source": [
        "np.expand_dims(X_train, -3).shape"
      ]
    },
    {
      "cell_type": "code",
      "execution_count": null,
      "metadata": {
        "id": "6qufG7568AeR"
      },
      "outputs": [],
      "source": [
        "X_train_CNN = np.expand_dims(X_train, -1)\n",
        "X_test_CNN = np.expand_dims(X_test, -1)\n",
        "X_valid_CNN = np.expand_dims(X_valid, -1)"
      ]
    },
    {
      "cell_type": "code",
      "execution_count": null,
      "metadata": {
        "colab": {
          "base_uri": "https://localhost:8080/"
        },
        "id": "sy7K1DQv8Cse",
        "outputId": "5a574769-de99-4abf-b23e-f9e10b73d6bc"
      },
      "outputs": [
        {
          "data": {
            "text/plain": [
              "(55000, 28, 28, 1)"
            ]
          },
          "execution_count": 19,
          "metadata": {},
          "output_type": "execute_result"
        }
      ],
      "source": [
        "X_train_CNN.shape"
      ]
    },
    {
      "cell_type": "code",
      "execution_count": null,
      "metadata": {
        "colab": {
          "base_uri": "https://localhost:8080/"
        },
        "id": "aBHYcFXX8EcI",
        "outputId": "a0de7c4f-081b-48f5-a806-db5bb1cdeae1"
      },
      "outputs": [
        {
          "data": {
            "text/plain": [
              "(28, 28, 1)"
            ]
          },
          "execution_count": 20,
          "metadata": {},
          "output_type": "execute_result"
        }
      ],
      "source": [
        "X_train_CNN[0].shape"
      ]
    },
    {
      "cell_type": "markdown",
      "metadata": {
        "id": "b54a6FdZ97vJ"
      },
      "source": [
        "#Building Basic CNN Architecture or Pretrained CNN Model"
      ]
    },
    {
      "cell_type": "code",
      "execution_count": null,
      "metadata": {
        "id": "Jb3IIR3l8HpY"
      },
      "outputs": [],
      "source": [
        "input_shape=(28,28,1) # (row, col, channels)\n",
        "LAYERS = [\n",
        "    tf.keras.Input(shape=input_shape),\n",
        "    tf.keras.layers.Conv2D(32, kernel_size=(3,3),activation=\"relu\"),\n",
        "    tf.keras.layers.MaxPooling2D(pool_size=(2,2)),\n",
        "    tf.keras.layers.Conv2D(64, kernel_size=(3,3), activation=\"relu\"),\n",
        "    tf.keras.layers.MaxPooling2D(pool_size=(2,2)),\n",
        "    tf.keras.layers.Flatten(),\n",
        "    tf.keras.layers.Dense(CLASSES, activation=\"softmax\")\n",
        "]"
      ]
    },
    {
      "cell_type": "code",
      "execution_count": null,
      "metadata": {
        "id": "hbY1bOdk8Jay"
      },
      "outputs": [],
      "source": [
        "CNN_model = tf.keras.Sequential(\n",
        "    LAYERS\n",
        ")"
      ]
    },
    {
      "cell_type": "code",
      "execution_count": null,
      "metadata": {
        "colab": {
          "base_uri": "https://localhost:8080/"
        },
        "id": "rzPDPHiC8L5i",
        "outputId": "62645a7a-097f-4653-f8bc-4dd99675317c"
      },
      "outputs": [
        {
          "name": "stdout",
          "output_type": "stream",
          "text": [
            "Model: \"sequential\"\n",
            "_________________________________________________________________\n",
            " Layer (type)                Output Shape              Param #   \n",
            "=================================================================\n",
            " conv2d (Conv2D)             (None, 26, 26, 32)        320       \n",
            "                                                                 \n",
            " max_pooling2d (MaxPooling2D  (None, 13, 13, 32)       0         \n",
            " )                                                               \n",
            "                                                                 \n",
            " conv2d_1 (Conv2D)           (None, 11, 11, 64)        18496     \n",
            "                                                                 \n",
            " max_pooling2d_1 (MaxPooling  (None, 5, 5, 64)         0         \n",
            " 2D)                                                             \n",
            "                                                                 \n",
            " flatten (Flatten)           (None, 1600)              0         \n",
            "                                                                 \n",
            " dense (Dense)               (None, 10)                16010     \n",
            "                                                                 \n",
            "=================================================================\n",
            "Total params: 34,826\n",
            "Trainable params: 34,826\n",
            "Non-trainable params: 0\n",
            "_________________________________________________________________\n"
          ]
        }
      ],
      "source": [
        "CNN_model.summary()"
      ]
    },
    {
      "cell_type": "code",
      "execution_count": null,
      "metadata": {
        "id": "362mKVy98Ng4"
      },
      "outputs": [],
      "source": [
        "LOSS_FUNCTION = \"sparse_categorical_crossentropy\"\n",
        "OPTIMIZERS = \"SGD\"\n",
        "METRICS = [\"accuracy\"]\n",
        "\n",
        "CNN_model.compile(loss=LOSS_FUNCTION,optimizer=OPTIMIZERS, metrics=METRICS)"
      ]
    },
    {
      "cell_type": "code",
      "execution_count": null,
      "metadata": {
        "colab": {
          "background_save": true,
          "base_uri": "https://localhost:8080/"
        },
        "id": "TIR3qE788ldJ",
        "outputId": "b424903f-d30b-412f-d42f-8e3fc61b20d8"
      },
      "outputs": [
        {
          "name": "stdout",
          "output_type": "stream",
          "text": [
            "Epoch 1/10\n",
            "1719/1719 [==============================] - 76s 43ms/step - loss: 0.6227 - accuracy: 0.8255 - val_loss: 0.2041 - val_accuracy: 0.9430\n",
            "Epoch 2/10\n",
            "1719/1719 [==============================] - 49s 29ms/step - loss: 0.1775 - accuracy: 0.9481 - val_loss: 0.1329 - val_accuracy: 0.9608\n",
            "Epoch 3/10\n",
            "1719/1719 [==============================] - 52s 30ms/step - loss: 0.1256 - accuracy: 0.9624 - val_loss: 0.1079 - val_accuracy: 0.9696\n",
            "Epoch 4/10\n",
            "1719/1719 [==============================] - 52s 30ms/step - loss: 0.1017 - accuracy: 0.9695 - val_loss: 0.0883 - val_accuracy: 0.9742\n",
            "Epoch 5/10\n",
            "1719/1719 [==============================] - 52s 30ms/step - loss: 0.0876 - accuracy: 0.9736 - val_loss: 0.0860 - val_accuracy: 0.9740\n",
            "Epoch 6/10\n",
            "1719/1719 [==============================] - 53s 31ms/step - loss: 0.0783 - accuracy: 0.9760 - val_loss: 0.0729 - val_accuracy: 0.9786\n",
            "Epoch 7/10\n",
            "1719/1719 [==============================] - 51s 30ms/step - loss: 0.0709 - accuracy: 0.9785 - val_loss: 0.0713 - val_accuracy: 0.9796\n",
            "Epoch 8/10\n",
            "1719/1719 [==============================] - 51s 30ms/step - loss: 0.0655 - accuracy: 0.9801 - val_loss: 0.0641 - val_accuracy: 0.9812\n",
            "Epoch 9/10\n",
            "1719/1719 [==============================] - 50s 29ms/step - loss: 0.0610 - accuracy: 0.9818 - val_loss: 0.0690 - val_accuracy: 0.9790\n",
            "Epoch 10/10\n",
            "1719/1719 [==============================] - 52s 30ms/step - loss: 0.0575 - accuracy: 0.9833 - val_loss: 0.0639 - val_accuracy: 0.9822\n"
          ]
        }
      ],
      "source": [
        "EPOCHS= 10\n",
        "\n",
        "VALIDATION = (X_valid, y_valid)\n",
        "\n",
        "history = CNN_model.fit(\n",
        "    X_train, \n",
        "    y_train,\n",
        "    epochs=EPOCHS,\n",
        "    validation_data=VALIDATION\n",
        "\n",
        ")"
      ]
    },
    {
      "cell_type": "code",
      "execution_count": null,
      "metadata": {
        "colab": {
          "background_save": true
        },
        "id": "A5OpOY-k8ruu",
        "outputId": "b4864fbe-2d10-41dd-e245-f44ca69d34b2"
      },
      "outputs": [
        {
          "data": {
            "image/png": "[encoded data removed]",
            "text/plain": [
              "<Figure size 720x504 with 1 Axes>"
            ]
          },
          "metadata": {},
          "output_type": "display_data"
        }
      ],
      "source": [
        "pd.DataFrame(history.history).plot(figsize=(10,7))\n",
        "plt.grid(True)\n",
        "plt.show()"
      ]
    },
    {
      "cell_type": "code",
      "execution_count": null,
      "metadata": {
        "colab": {
          "background_save": true
        },
        "id": "iUt_YRrn86Wy"
      },
      "outputs": [],
      "source": [
        "CNN_model.save(\"mnist_full.h5\")"
      ]
    },
    {
      "cell_type": "code",
      "execution_count": null,
      "metadata": {
        "colab": {
          "background_save": true
        },
        "id": "qN2CxSe-87LH",
        "outputId": "856f8df3-7984-4258-ef5e-e8b88291e0ac"
      },
      "outputs": [
        {
          "data": {
            "text/plain": [
              "array([[7.94542885e-08, 5.38022853e-08, 1.03284052e-04, 2.06484783e-05,\n",
              "        3.12035337e-12, 6.18080209e-09, 2.11547143e-13, 9.99871731e-01,\n",
              "        6.92167177e-08, 4.04929096e-06],\n",
              "       [2.02931969e-05, 5.31304220e-04, 9.99439895e-01, 7.60403964e-07,\n",
              "        2.19945901e-13, 1.55593538e-10, 4.72929969e-06, 1.21646096e-12,\n",
              "        2.94745905e-06, 3.57123490e-15],\n",
              "       [2.57714419e-05, 9.99090195e-01, 8.44269525e-05, 8.61655190e-06,\n",
              "        2.46255338e-04, 1.11541510e-06, 1.59507734e-04, 1.13299546e-04,\n",
              "        2.68449570e-04, 2.42911688e-06]], dtype=float32)"
            ]
          },
          "execution_count": 28,
          "metadata": {},
          "output_type": "execute_result"
        }
      ],
      "source": [
        "X_new = X_test[:3]\n",
        "\n",
        "y_prob =CNN_model.predict(X_new)\n",
        "y_prob"
      ]
    },
    {
      "cell_type": "code",
      "execution_count": null,
      "metadata": {
        "colab": {
          "background_save": true
        },
        "id": "GEtmrcNB8-D1",
        "outputId": "a75647ee-fb09-4714-a2e9-28ece8bf8fc8"
      },
      "outputs": [
        {
          "data": {
            "text/plain": [
              "array([[0.   , 0.   , 0.   , 0.   , 0.   , 0.   , 0.   , 1.   , 0.   ,\n",
              "        0.   ],\n",
              "       [0.   , 0.001, 0.999, 0.   , 0.   , 0.   , 0.   , 0.   , 0.   ,\n",
              "        0.   ],\n",
              "       [0.   , 0.999, 0.   , 0.   , 0.   , 0.   , 0.   , 0.   , 0.   ,\n",
              "        0.   ]], dtype=float32)"
            ]
          },
          "execution_count": 29,
          "metadata": {},
          "output_type": "execute_result"
        }
      ],
      "source": [
        "y_prob.round(3)"
      ]
    },
    {
      "cell_type": "code",
      "execution_count": null,
      "metadata": {
        "colab": {
          "background_save": true
        },
        "id": "Ynlb5O719Cdz",
        "outputId": "ba361f4e-d6d3-4799-d7d6-694d22eb461e"
      },
      "outputs": [
        {
          "data": {
            "text/plain": [
              "<matplotlib.image.AxesImage at 0x7f36d25a87d0>"
            ]
          },
          "execution_count": 30,
          "metadata": {},
          "output_type": "execute_result"
        },
        {
          "data": {
            "image/png": "[encoded data removed]",
            "text/plain": [
              "<Figure size 432x288 with 1 Axes>"
            ]
          },
          "metadata": {},
          "output_type": "display_data"
        }
      ],
      "source": [
        "plt.imshow(X_new[0], cmap=\"gray\")"
      ]
    },
    {
      "cell_type": "code",
      "execution_count": null,
      "metadata": {
        "colab": {
          "background_save": true
        },
        "id": "RqGMB2ag9EV9",
        "outputId": "8645cfff-427a-4fa8-b944-402ab02418e4"
      },
      "outputs": [
        {
          "data": {
            "text/plain": [
              "array([7, 2, 1])"
            ]
          },
          "execution_count": 31,
          "metadata": {},
          "output_type": "execute_result"
        }
      ],
      "source": [
        "Y_pred = np.argmax(y_prob, axis=1)\n",
        "Y_pred"
      ]
    },
    {
      "cell_type": "code",
      "execution_count": null,
      "metadata": {
        "colab": {
          "background_save": true
        },
        "id": "_z9eAvkV9HRt",
        "outputId": "ae48df93-db3c-46e2-a7e7-31f8575191a1"
      },
      "outputs": [
        {
          "data": {
            "image/png": "[encoded data removed]",
            "text/plain": [
              "<Figure size 432x288 with 1 Axes>"
            ]
          },
          "metadata": {},
          "output_type": "display_data"
        },
        {
          "name": "stdout",
          "output_type": "stream",
          "text": [
            "------------------------------------------------------------\n"
          ]
        },
        {
          "data": {
            "image/png": "[encoded data removed]",
            "text/plain": [
              "<Figure size 432x288 with 1 Axes>"
            ]
          },
          "metadata": {},
          "output_type": "display_data"
        },
        {
          "name": "stdout",
          "output_type": "stream",
          "text": [
            "------------------------------------------------------------\n"
          ]
        },
        {
          "data": {
            "image/png": "[encoded data removed]",
            "text/plain": [
              "<Figure size 432x288 with 1 Axes>"
            ]
          },
          "metadata": {},
          "output_type": "display_data"
        },
        {
          "name": "stdout",
          "output_type": "stream",
          "text": [
            "------------------------------------------------------------\n"
          ]
        }
      ],
      "source": [
        "for img_array, pred, actual in zip(X_new, Y_pred, y_test[:3]):\n",
        "  plt.imshow(img_array, cmap=\"gray\")\n",
        "  plt.title(f\"predicted: {pred}, actual: {actual}\")\n",
        "  plt.axis(\"off\")\n",
        "  plt.show()\n",
        "  print(\"--\"*30)"
      ]
    },
    {
      "cell_type": "markdown",
      "metadata": {
        "id": "emj2Ge2R9wQ5"
      },
      "source": [
        "#Applying Transfer Learning"
      ]
    },
    {
      "cell_type": "markdown",
      "metadata": {
        "id": "bWSZGsLN-XS0"
      },
      "source": [
        "#New  Problem statement -\n",
        "\n",
        "Classify handwritten digits into odd and even"
      ]
    },
    {
      "cell_type": "code",
      "execution_count": null,
      "metadata": {
        "colab": {
          "background_save": true
        },
        "id": "zBebVok49rVN"
      },
      "outputs": [],
      "source": [
        "pretrained_model = tf.keras.models.load_model(\"mnist_full.h5\")"
      ]
    },
    {
      "cell_type": "code",
      "execution_count": null,
      "metadata": {
        "colab": {
          "background_save": true
        },
        "id": "imR5VSBG-bzA",
        "outputId": "34664e33-2f8e-430e-cec5-84eb7c64d4aa"
      },
      "outputs": [
        {
          "name": "stdout",
          "output_type": "stream",
          "text": [
            "conv2d: True\n",
            "max_pooling2d: True\n",
            "conv2d_1: True\n",
            "max_pooling2d_1: True\n",
            "flatten: True\n",
            "dense: True\n"
          ]
        }
      ],
      "source": [
        "for layer in  pretrained_model.layers:\n",
        "  print(f\"{layer.name}: {layer.trainable}\")"
      ]
    },
    {
      "cell_type": "code",
      "execution_count": null,
      "metadata": {
        "colab": {
          "background_save": true
        },
        "id": "hwpTIYXy-f2Q"
      },
      "outputs": [],
      "source": [
        "for layer in  pretrained_model.layers[:-1]: #leave the last layer\n",
        "  layer.trainable=False"
      ]
    },
    {
      "cell_type": "code",
      "execution_count": null,
      "metadata": {
        "colab": {
          "background_save": true
        },
        "id": "85U9k49m-kc4",
        "outputId": "6f811aa9-4e05-438f-a0bc-a5f6d77107ab"
      },
      "outputs": [
        {
          "name": "stdout",
          "output_type": "stream",
          "text": [
            "conv2d: False\n",
            "max_pooling2d: False\n",
            "conv2d_1: False\n",
            "max_pooling2d_1: False\n",
            "flatten: False\n",
            "dense: True\n"
          ]
        }
      ],
      "source": [
        "for layer in  pretrained_model.layers:\n",
        "  print(f\"{layer.name}: {layer.trainable}\")"
      ]
    },
    {
      "cell_type": "code",
      "execution_count": null,
      "metadata": {
        "colab": {
          "background_save": true
        },
        "id": "brhZhycy-sfj"
      },
      "outputs": [],
      "source": [
        "lower_trained_model = pretrained_model.layers[:-1]"
      ]
    },
    {
      "cell_type": "code",
      "source": [
        "new_model=tf.keras.models.Sequential(lower_trained_model)"
      ],
      "metadata": {
        "id": "wpETgZRcMXOg"
      },
      "execution_count": 42,
      "outputs": []
    },
    {
      "cell_type": "code",
      "source": [
        "new_model.add(\n",
        "    tf.keras.layers.Dense(2, activation=\"softmax\")\n",
        ")"
      ],
      "metadata": {
        "id": "OMt8z2SZMZ4q"
      },
      "execution_count": 43,
      "outputs": []
    },
    {
      "cell_type": "code",
      "execution_count": 44,
      "metadata": {
        "id": "MDSv7V2f-6iW"
      },
      "outputs": [],
      "source": [
        "new_model.build(input_shape=(1,28,28,1))"
      ]
    },
    {
      "cell_type": "code",
      "execution_count": 45,
      "metadata": {
        "id": "dqOsrXhB-90U",
        "colab": {
          "base_uri": "https://localhost:8080/"
        },
        "outputId": "c3f61f97-b3cb-4ae2-d0c6-0a858ebdbbf1"
      },
      "outputs": [
        {
          "output_type": "stream",
          "name": "stdout",
          "text": [
            "Model: \"sequential_3\"\n",
            "_________________________________________________________________\n",
            " Layer (type)                Output Shape              Param #   \n",
            "=================================================================\n",
            " conv2d (Conv2D)             multiple                  320       \n",
            "                                                                 \n",
            " max_pooling2d (MaxPooling2D  multiple                 0         \n",
            " )                                                               \n",
            "                                                                 \n",
            " conv2d_1 (Conv2D)           multiple                  18496     \n",
            "                                                                 \n",
            " max_pooling2d_1 (MaxPooling  multiple                 0         \n",
            " 2D)                                                             \n",
            "                                                                 \n",
            " flatten (Flatten)           multiple                  0         \n",
            "                                                                 \n",
            " dense_3 (Dense)             (1, 2)                    3202      \n",
            "                                                                 \n",
            "=================================================================\n",
            "Total params: 22,018\n",
            "Trainable params: 3,202\n",
            "Non-trainable params: 18,816\n",
            "_________________________________________________________________\n"
          ]
        }
      ],
      "source": [
        "new_model.summary()"
      ]
    },
    {
      "cell_type": "code",
      "source": [
        "def update_even_odd_labels(labels):\n",
        "  for idx, label in enumerate(labels):\n",
        "    labels[idx] = np.where(label%2==0, 1, 0) # 1 -> even, 0 -> odd\n",
        "  return labels"
      ],
      "metadata": {
        "id": "_u0OyfOyMnq0"
      },
      "execution_count": 46,
      "outputs": []
    },
    {
      "cell_type": "code",
      "source": [
        "y_train_bin, y_test_bin, y_valid_bin = update_even_odd_labels([y_train, y_test, y_valid])"
      ],
      "metadata": {
        "id": "q-5w1nymM2pT"
      },
      "execution_count": 47,
      "outputs": []
    },
    {
      "cell_type": "code",
      "source": [
        "np.unique(y_train_bin)"
      ],
      "metadata": {
        "colab": {
          "base_uri": "https://localhost:8080/"
        },
        "id": "wDlYV5-AM4lE",
        "outputId": "97810074-c225-4ded-c9f5-65e6485ea84f"
      },
      "execution_count": 48,
      "outputs": [
        {
          "output_type": "execute_result",
          "data": {
            "text/plain": [
              "array([0, 1])"
            ]
          },
          "metadata": {},
          "execution_count": 48
        }
      ]
    },
    {
      "cell_type": "code",
      "source": [
        "new_model.compile(loss=\"sparse_categorical_crossentropy\",\n",
        "                  optimizer=\"SGD\",\n",
        "                  metrics=[\"accuracy\"])"
      ],
      "metadata": {
        "id": "Rmz2YtvfM7CW"
      },
      "execution_count": 49,
      "outputs": []
    },
    {
      "cell_type": "code",
      "source": [
        "history=new_model.fit(X_train, y_train_bin, epochs=10, validation_data=(X_valid,y_valid_bin))"
      ],
      "metadata": {
        "colab": {
          "base_uri": "https://localhost:8080/"
        },
        "id": "W_-Vn3F1M-iA",
        "outputId": "9d003d5b-b034-46f2-e74c-b33047b5ba08"
      },
      "execution_count": 50,
      "outputs": [
        {
          "output_type": "stream",
          "name": "stdout",
          "text": [
            "Epoch 1/10\n",
            "1719/1719 [==============================] - 17s 10ms/step - loss: 158.3907 - accuracy: 0.9275 - val_loss: 503.1235 - val_accuracy: 0.8152\n",
            "Epoch 2/10\n",
            "1719/1719 [==============================] - 16s 10ms/step - loss: 69.5210 - accuracy: 0.9549 - val_loss: 63.9991 - val_accuracy: 0.9570\n",
            "Epoch 3/10\n",
            "1719/1719 [==============================] - 17s 10ms/step - loss: 68.6131 - accuracy: 0.9583 - val_loss: 38.1720 - val_accuracy: 0.9712\n",
            "Epoch 4/10\n",
            "1719/1719 [==============================] - 24s 14ms/step - loss: 55.1927 - accuracy: 0.9620 - val_loss: 30.9100 - val_accuracy: 0.9758\n",
            "Epoch 5/10\n",
            "1719/1719 [==============================] - 21s 12ms/step - loss: 53.3170 - accuracy: 0.9645 - val_loss: 25.6823 - val_accuracy: 0.9780\n",
            "Epoch 6/10\n",
            "1719/1719 [==============================] - 19s 11ms/step - loss: 50.2334 - accuracy: 0.9658 - val_loss: 26.6660 - val_accuracy: 0.9762\n",
            "Epoch 7/10\n",
            "1719/1719 [==============================] - 17s 10ms/step - loss: 40.0339 - accuracy: 0.9683 - val_loss: 26.8015 - val_accuracy: 0.9784\n",
            "Epoch 8/10\n",
            "1719/1719 [==============================] - 17s 10ms/step - loss: 52.8551 - accuracy: 0.9670 - val_loss: 33.5736 - val_accuracy: 0.9736\n",
            "Epoch 9/10\n",
            "1719/1719 [==============================] - 17s 10ms/step - loss: 40.1876 - accuracy: 0.9688 - val_loss: 38.5986 - val_accuracy: 0.9702\n",
            "Epoch 10/10\n",
            "1719/1719 [==============================] - 18s 10ms/step - loss: 43.6894 - accuracy: 0.9680 - val_loss: 23.7250 - val_accuracy: 0.9806\n"
          ]
        }
      ]
    },
    {
      "cell_type": "code",
      "source": [
        "pd.DataFrame(history.history).plot(figsize=(10,7))\n",
        "plt.grid(True)\n",
        "plt.show()"
      ],
      "metadata": {
        "colab": {
          "base_uri": "https://localhost:8080/",
          "height": 428
        },
        "id": "RNkLOtuHNDvi",
        "outputId": "304a74bf-0363-465e-b3de-c38aab0ae222"
      },
      "execution_count": 51,
      "outputs": [
        {
          "output_type": "display_data",
          "data": {
            "text/plain": [
              "<Figure size 720x504 with 1 Axes>"
            ],
            "image/png": "[encoded data removed]"
          },
          "metadata": {
            "needs_background": "light"
          }
        }
      ]
    },
    {
      "cell_type": "code",
      "source": [
        "new_model.evaluate(X_test,y_test_bin)"
      ],
      "metadata": {
        "colab": {
          "base_uri": "https://localhost:8080/"
        },
        "id": "HuLsc24PNRLw",
        "outputId": "e4fea6d8-c6a1-4b0a-d41a-035cdab5e710"
      },
      "execution_count": 52,
      "outputs": [
        {
          "output_type": "stream",
          "name": "stdout",
          "text": [
            "313/313 [==============================] - 3s 9ms/step - loss: 21.0077 - accuracy: 0.9800\n"
          ]
        },
        {
          "output_type": "execute_result",
          "data": {
            "text/plain": [
              "[21.007740020751953, 0.9800000190734863]"
            ]
          },
          "metadata": {},
          "execution_count": 52
        }
      ]
    },
    {
      "cell_type": "code",
      "source": [
        "X_new = X_test[:3]\n",
        "\n",
        "y_prob =new_model.predict(X_new)\n",
        "y_prob"
      ],
      "metadata": {
        "colab": {
          "base_uri": "https://localhost:8080/"
        },
        "id": "xmzSIgh4NTVe",
        "outputId": "33ded48f-0c4e-411a-b80c-ea340b918e77"
      },
      "execution_count": 53,
      "outputs": [
        {
          "output_type": "execute_result",
          "data": {
            "text/plain": [
              "array([[1., 0.],\n",
              "       [0., 1.],\n",
              "       [1., 0.]], dtype=float32)"
            ]
          },
          "metadata": {},
          "execution_count": 53
        }
      ]
    },
    {
      "cell_type": "code",
      "source": [
        "y_prob.round(3)"
      ],
      "metadata": {
        "colab": {
          "base_uri": "https://localhost:8080/"
        },
        "id": "aj306i9fNT7e",
        "outputId": "458d15ec-1236-4ef3-a0e9-8d9dd09dfb11"
      },
      "execution_count": 54,
      "outputs": [
        {
          "output_type": "execute_result",
          "data": {
            "text/plain": [
              "array([[1., 0.],\n",
              "       [0., 1.],\n",
              "       [1., 0.]], dtype=float32)"
            ]
          },
          "metadata": {},
          "execution_count": 54
        }
      ]
    },
    {
      "cell_type": "code",
      "source": [
        "Y_pred = np.argmax(y_prob, axis=-1)\n",
        "Y_pred"
      ],
      "metadata": {
        "colab": {
          "base_uri": "https://localhost:8080/"
        },
        "id": "uCgvl-y2NWAI",
        "outputId": "50d6adf2-bbf6-4b4c-8288-cfaa2c540e85"
      },
      "execution_count": 55,
      "outputs": [
        {
          "output_type": "execute_result",
          "data": {
            "text/plain": [
              "array([0, 1, 0])"
            ]
          },
          "metadata": {},
          "execution_count": 55
        }
      ]
    },
    {
      "cell_type": "code",
      "source": [
        "y_test_bin[:3]"
      ],
      "metadata": {
        "colab": {
          "base_uri": "https://localhost:8080/"
        },
        "id": "ZTiIgU0XNZDg",
        "outputId": "39fbdb69-3ede-4577-b3ff-93173170d827"
      },
      "execution_count": 56,
      "outputs": [
        {
          "output_type": "execute_result",
          "data": {
            "text/plain": [
              "array([0, 1, 0])"
            ]
          },
          "metadata": {},
          "execution_count": 56
        }
      ]
    },
    {
      "cell_type": "code",
      "source": [
        "for img_array, pred, actual in zip(X_new, Y_pred, y_test_bin[:3]):\n",
        "    if pred == 1:\n",
        "        pred = \"even\"\n",
        "    else:\n",
        "        pred = \"odd\"\n",
        "\n",
        "    if actual == 1:\n",
        "        actual = \"even\"\n",
        "    else:\n",
        "        actual = \"odd\"\n",
        "    plt.imshow(img_array, cmap=\"gray\")\n",
        "    plt.title(f\"predicted: {pred}, actual: {actual}\")\n",
        "    plt.axis(\"off\")\n",
        "    plt.show()\n",
        "    print(\"--\"*30)"
      ],
      "metadata": {
        "colab": {
          "base_uri": "https://localhost:8080/",
          "height": 810
        },
        "id": "dMYbg2hbNazI",
        "outputId": "125f97de-4a47-4300-92e7-26bc6557bedd"
      },
      "execution_count": 57,
      "outputs": [
        {
          "output_type": "display_data",
          "data": {
            "text/plain": [
              "<Figure size 432x288 with 1 Axes>"
            ],
            "image/png": "[encoded data removed]"
          },
          "metadata": {
            "needs_background": "light"
          }
        },
        {
          "output_type": "stream",
          "name": "stdout",
          "text": [
            "------------------------------------------------------------\n"
          ]
        },
        {
          "output_type": "display_data",
          "data": {
            "text/plain": [
              "<Figure size 432x288 with 1 Axes>"
            ],
            "image/png": "[encoded data removed]"
          },
          "metadata": {
            "needs_background": "light"
          }
        },
        {
          "output_type": "stream",
          "name": "stdout",
          "text": [
            "------------------------------------------------------------\n"
          ]
        },
        {
          "output_type": "display_data",
          "data": {
            "text/plain": [
              "<Figure size 432x288 with 1 Axes>"
            ],
            "image/png": "[encoded data removed]"
          },
          "metadata": {
            "needs_background": "light"
          }
        },
        {
          "output_type": "stream",
          "name": "stdout",
          "text": [
            "------------------------------------------------------------\n"
          ]
        }
      ]
    },
    {
      "cell_type": "code",
      "source": [],
      "metadata": {
        "id": "Cvi0txEcORzg"
      },
      "execution_count": null,
      "outputs": []
    }
  ],
  "metadata": {
    "accelerator": "GPU",
    "colab": {
      "collapsed_sections": [
        "emj2Ge2R9wQ5"
      ],
      "provenance": [],
      "authorship_tag": "ABX9TyPtUOaQ8e90q/qMAhZw1mKf",
      "include_colab_link": true
    },
    "gpuClass": "standard",
    "kernelspec": {
      "display_name": "Python 3",
      "name": "python3"
    },
    "language_info": {
      "name": "python"
    }
  },
  "nbformat": 4,
  "nbformat_minor": 0
}